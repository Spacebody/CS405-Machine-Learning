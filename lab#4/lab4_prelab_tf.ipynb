{
 "cells": [
  {
   "cell_type": "code",
   "execution_count": 44,
   "metadata": {},
   "outputs": [],
   "source": [
    "import tensorflow as tf\n",
    "import tensorflow.contrib.eager as tfe\n",
    "import numpy as np"
   ]
  },
  {
   "cell_type": "code",
   "execution_count": 18,
   "metadata": {},
   "outputs": [
    {
     "name": "stdout",
     "output_type": "stream",
     "text": [
      "b'Hello, TensorFlow!'\n"
     ]
    }
   ],
   "source": [
    "with tf.Graph().as_default():\n",
    "    # build your graph here\n",
    "    hello = tf.constant('Hello, TensorFlow!')\n",
    "    with tf.Session() as sess:\n",
    "        print(sess.run(hello))"
   ]
  },
  {
   "cell_type": "code",
   "execution_count": 8,
   "metadata": {},
   "outputs": [
    {
     "name": "stdout",
     "output_type": "stream",
     "text": [
      "Setting Eager mode...\n",
      "Define constant tensors\n",
      "a = 2\n",
      "b = 3\n",
      "Running operations, without tf.Session\n",
      "a + b = 5\n",
      "a * b = 6\n"
     ]
    }
   ],
   "source": [
    "# Set Eager API\n",
    "print(\"Setting Eager mode...\")\n",
    "tfe.enable_eager_execution()\n",
    "\n",
    "# Define constant tensors\n",
    "print(\"Define constant tensors\")\n",
    "a = tf.constant(2)\n",
    "print(\"a = %i\" % a)\n",
    "b = tf.constant(3)\n",
    "print(\"b = %i\" % b)\n",
    "\n",
    "# Run the operation without the need for tf.Session\n",
    "print(\"Running operations, without tf.Session\")\n",
    "c = a + b\n",
    "print(\"a + b = %i\" % c)\n",
    "d = a * b\n",
    "print(\"a * b = %i\" % d)\n",
    "\n"
   ]
  },
  {
   "cell_type": "code",
   "execution_count": 9,
   "metadata": {},
   "outputs": [
    {
     "name": "stdout",
     "output_type": "stream",
     "text": [
      "Mixing operations with Tensors and Numpy Arrays\n",
      "Tensor:\n",
      " a = tf.Tensor(\n",
      "[[2. 1.]\n",
      " [1. 0.]], shape=(2, 2), dtype=float32)\n",
      "NumpyArray:\n",
      " b = [[3. 0.]\n",
      " [5. 1.]]\n",
      "Running operations, without tf.Session\n",
      "a + b = tf.Tensor(\n",
      "[[5. 1.]\n",
      " [6. 1.]], shape=(2, 2), dtype=float32)\n",
      "a * b = tf.Tensor(\n",
      "[[11.  1.]\n",
      " [ 3.  0.]], shape=(2, 2), dtype=float32)\n",
      "Iterate through Tensor 'a':\n",
      "tf.Tensor(2.0, shape=(), dtype=float32)\n",
      "tf.Tensor(1.0, shape=(), dtype=float32)\n",
      "tf.Tensor(1.0, shape=(), dtype=float32)\n",
      "tf.Tensor(0.0, shape=(), dtype=float32)\n"
     ]
    }
   ],
   "source": [
    "# Full compatibility with Numpy\n",
    "print(\"Mixing operations with Tensors and Numpy Arrays\")\n",
    "\n",
    "# Define constant tensors\n",
    "a = tf.constant([[2., 1.],\n",
    "                 [1., 0.]], dtype=tf.float32)\n",
    "print(\"Tensor:\\n a = %s\" % a)\n",
    "b = np.array([[3., 0.],\n",
    "              [5., 1.]], dtype=np.float32)\n",
    "print(\"NumpyArray:\\n b = %s\" % b)\n",
    "\n",
    "# Run the operation without the need for tf.Session\n",
    "print(\"Running operations, without tf.Session\")\n",
    "\n",
    "c = a + b\n",
    "print(\"a + b = %s\" % c)\n",
    "\n",
    "d = tf.matmul(a, b)\n",
    "print(\"a * b = %s\" % d)\n",
    "\n",
    "print(\"Iterate through Tensor 'a':\")\n",
    "for i in range(a.shape[0]):\n",
    "    for j in range(a.shape[1]):\n",
    "        print(a[i][j])\n",
    "\n"
   ]
  },
  {
   "cell_type": "code",
   "execution_count": 19,
   "metadata": {},
   "outputs": [
    {
     "name": "stdout",
     "output_type": "stream",
     "text": [
      "a=2, b=3\n",
      "Addition with constants: 5\n",
      "Multiplication with constants: 6\n"
     ]
    }
   ],
   "source": [
    "with tf.Graph().as_default():\n",
    "    a = tf.constant(2)\n",
    "    b = tf.constant(3)\n",
    "    # Launch the default graph.\n",
    "    with tf.Session() as sess:\n",
    "        print(\"a=2, b=3\")\n",
    "        print(\"Addition with constants: %i\" % sess.run(a+b))\n",
    "        print(\"Multiplication with constants: %i\" % sess.run(a*b))"
   ]
  },
  {
   "cell_type": "code",
   "execution_count": 20,
   "metadata": {},
   "outputs": [
    {
     "name": "stdout",
     "output_type": "stream",
     "text": [
      "Addition with variables: 5\n",
      "Multiplication with variables: 6\n"
     ]
    }
   ],
   "source": [
    "with tf.Graph().as_default():\n",
    "    a = tf.placeholder(tf.int16)\n",
    "    b = tf.placeholder(tf.int16)\n",
    "\n",
    "    add = tf.add(a, b)\n",
    "    mul = tf.multiply(a, b)\n",
    "\n",
    "    # Launch the default graph.\n",
    "    with tf.Session() as sess:\n",
    "        # Run every operation with variable input\n",
    "        print(\"Addition with variables: %i\" % sess.run(add, feed_dict={a: 2, b: 3}))\n",
    "        print(\"Multiplication with variables: %i\" % sess.run(mul, feed_dict={a: 2, b: 3}))"
   ]
  },
  {
   "cell_type": "code",
   "execution_count": 21,
   "metadata": {},
   "outputs": [
    {
     "name": "stdout",
     "output_type": "stream",
     "text": [
      "[[12.]]\n"
     ]
    }
   ],
   "source": [
    "with tf.Graph().as_default():\n",
    "    matrix1 = tf.constant([[3., 3.]])\n",
    "    matrix2 = tf.constant([[2.],[2.]])\n",
    "    product = tf.matmul(matrix1, matrix2)\n",
    "    with tf.Session() as sess:\n",
    "        result = sess.run(product)\n",
    "        print(result)"
   ]
  },
  {
   "cell_type": "code",
   "execution_count": 41,
   "metadata": {},
   "outputs": [],
   "source": [
    "import matplotlib.pyplot as plt\n",
    "\n",
    "rng = np.random\n",
    "\n",
    "# Parameters\n",
    "learning_rate = 0.01\n",
    "training_epochs = 1000\n",
    "display_step = 50"
   ]
  },
  {
   "cell_type": "code",
   "execution_count": 42,
   "metadata": {},
   "outputs": [],
   "source": [
    "# Training Data\n",
    "train_X = np.asarray([3.3,4.4,5.5,6.71,6.93,4.168,9.779,6.182,7.59,2.167,\n",
    "                         7.042,10.791,5.313,7.997,5.654,9.27,3.1])\n",
    "train_Y = np.asarray([1.7,2.76,2.09,3.19,1.694,1.573,3.366,2.596,2.53,1.221,\n",
    "                         2.827,3.465,1.65,2.904,2.42,2.94,1.3])\n",
    "n_samples = train_X.shape[0]"
   ]
  },
  {
   "cell_type": "code",
   "execution_count": 43,
   "metadata": {},
   "outputs": [
    {
     "name": "stdout",
     "output_type": "stream",
     "text": [
      "Epoch: 0050 cost= 0.084285237 W= 0.20212922 b= 1.142922\n",
      "Epoch: 0100 cost= 0.083447389 W= 0.20495188 b= 1.1226157\n",
      "Epoch: 0150 cost= 0.082706086 W= 0.20760646 b= 1.1035191\n",
      "Epoch: 0200 cost= 0.082050033 W= 0.21010336 b= 1.0855565\n",
      "Epoch: 0250 cost= 0.081469446 W= 0.21245196 b= 1.0686606\n",
      "Epoch: 0300 cost= 0.080955699 W= 0.21466078 b= 1.0527707\n",
      "Epoch: 0350 cost= 0.080501035 W= 0.21673825 b= 1.0378256\n",
      "Epoch: 0400 cost= 0.080098644 W= 0.21869226 b= 1.0237685\n",
      "Epoch: 0450 cost= 0.079742506 W= 0.22053027 b= 1.0105462\n",
      "Epoch: 0500 cost= 0.079427347 W= 0.22225887 b= 0.99811035\n",
      "Epoch: 0550 cost= 0.079148397 W= 0.22388467 b= 0.9864144\n",
      "Epoch: 0600 cost= 0.078901522 W= 0.22541383 b= 0.975414\n",
      "Epoch: 0650 cost= 0.078682989 W= 0.22685201 b= 0.9650676\n",
      "Epoch: 0700 cost= 0.078489602 W= 0.22820462 b= 0.95533717\n",
      "Epoch: 0750 cost= 0.078318425 W= 0.2294765 b= 0.94618726\n",
      "Epoch: 0800 cost= 0.078166895 W= 0.2306727 b= 0.9375819\n",
      "Epoch: 0850 cost= 0.078032754 W= 0.2317979 b= 0.9294875\n",
      "Epoch: 0900 cost= 0.077914014 W= 0.23285612 b= 0.92187476\n",
      "Epoch: 0950 cost= 0.077808864 W= 0.23385149 b= 0.9147142\n",
      "Epoch: 1000 cost= 0.077715762 W= 0.23478761 b= 0.9079796\n",
      "Optimization Finished!\n",
      "Training cost= 0.07771576 W= 0.23478761 b= 0.9079796 \n",
      "\n"
     ]
    },
    {
     "data": {
      "image/png": "[encoded data removed]",
      "text/plain": [
       "<Figure size 432x288 with 1 Axes>"
      ]
     },
     "metadata": {
      "needs_background": "light"
     },
     "output_type": "display_data"
    },
    {
     "name": "stdout",
     "output_type": "stream",
     "text": [
      "Testing... (Mean square loss Comparison)\n",
      "Testing cost= 0.082856886\n",
      "Absolute mean square loss difference: 0.005141124\n"
     ]
    },
    {
     "data": {
      "image/png": "[encoded data removed]",
      "text/plain": [
       "<Figure size 432x288 with 1 Axes>"
      ]
     },
     "metadata": {
      "needs_background": "light"
     },
     "output_type": "display_data"
    }
   ],
   "source": [
    "# construct a graph\n",
    "with tf.Graph().as_default():\n",
    "    # tf Graph Input\n",
    "    X = tf.placeholder(\"float\")\n",
    "    Y = tf.placeholder(\"float\")\n",
    "\n",
    "    # Set model weights\n",
    "    W = tf.Variable(rng.randn(), name=\"weight\")\n",
    "    b = tf.Variable(rng.randn(), name=\"bias\")\n",
    "\n",
    "    # Construct a linear model\n",
    "    pred = tf.add(tf.multiply(X, W), b)\n",
    "\n",
    "    # Mean squared error\n",
    "    cost = tf.reduce_sum(tf.pow(pred-Y, 2))/(2*n_samples)\n",
    "    # Gradient descent\n",
    "    #  Note, minimize() knows to modify W and b because Variable objects are trainable=True by default\n",
    "    optimizer = tf.train.GradientDescentOptimizer(learning_rate).minimize(cost)\n",
    "\n",
    "    # Initialize the variables (i.e. assign their default value)\n",
    "    init = tf.global_variables_initializer()\n",
    "    \n",
    "        # Start training\n",
    "    with tf.Session() as sess:\n",
    "        # Run the initializer\n",
    "        sess.run(init)\n",
    "\n",
    "        # Fit all training data\n",
    "        for epoch in range(training_epochs):\n",
    "            for (x, y) in zip(train_X, train_Y):\n",
    "                sess.run(optimizer, feed_dict={X: x, Y: y})\n",
    "\n",
    "            # Display logs per epoch step\n",
    "            if (epoch+1) % display_step == 0:\n",
    "                c = sess.run(cost, feed_dict={X: train_X, Y:train_Y})\n",
    "                print(\"Epoch:\", '%04d' % (epoch+1), \"cost=\", \"{:.9f}\".format(c), \\\n",
    "                    \"W=\", sess.run(W), \"b=\", sess.run(b))\n",
    "\n",
    "        print(\"Optimization Finished!\")\n",
    "        training_cost = sess.run(cost, feed_dict={X: train_X, Y: train_Y})\n",
    "        print(\"Training cost=\", training_cost, \"W=\", sess.run(W), \"b=\", sess.run(b), '\\n')\n",
    "\n",
    "        # Graphic display\n",
    "        plt.plot(train_X, train_Y, 'ro', label='Original data')\n",
    "        plt.plot(train_X, sess.run(W) * train_X + sess.run(b), label='Fitted line')\n",
    "        plt.legend()\n",
    "        plt.show()\n",
    "\n",
    "        # Testing example, as requested (Issue #2)\n",
    "        test_X = np.asarray([6.83, 4.668, 8.9, 7.91, 5.7, 8.7, 3.1, 2.1])\n",
    "        test_Y = np.asarray([1.84, 2.273, 3.2, 2.831, 2.92, 3.24, 1.35, 1.03])\n",
    "\n",
    "        print(\"Testing... (Mean square loss Comparison)\")\n",
    "        testing_cost = sess.run(\n",
    "            tf.reduce_sum(tf.pow(pred - Y, 2)) / (2 * test_X.shape[0]),\n",
    "            feed_dict={X: test_X, Y: test_Y})  # same function as cost above\n",
    "        print(\"Testing cost=\", testing_cost)\n",
    "        print(\"Absolute mean square loss difference:\", abs(\n",
    "            training_cost - testing_cost))\n",
    "\n",
    "        plt.plot(test_X, test_Y, 'bo', label='Testing data')\n",
    "        plt.plot(train_X, sess.run(W) * train_X + sess.run(b), label='Fitted line')\n",
    "        plt.legend()\n",
    "        plt.show()"
   ]
  },
  {
   "cell_type": "code",
   "execution_count": null,
   "metadata": {},
   "outputs": [],
   "source": []
  }
 ],
 "metadata": {
  "kernelspec": {
   "display_name": "Python 3.6",
   "language": "python",
   "name": "python3.6"
  },
  "language_info": {
   "codemirror_mode": {
    "name": "ipython",
    "version": 3
   },
   "file_extension": ".py",
   "mimetype": "text/x-python",
   "name": "python",
   "nbconvert_exporter": "python",
   "pygments_lexer": "ipython3",
   "version": "3.6.6"
  }
 },
 "nbformat": 4,
 "nbformat_minor": 2
}
