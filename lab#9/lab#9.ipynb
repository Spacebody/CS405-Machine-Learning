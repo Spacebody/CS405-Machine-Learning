{
 "cells": [
  {
   "cell_type": "code",
   "execution_count": 30,
   "metadata": {},
   "outputs": [],
   "source": [
    "# Author: Yilin ZHENG\n",
    "# Reference: https://github.com/llSourcell/navigating_a_virtual_world_with_dynamic_programming\n",
    "import numpy as np\n",
    "import gym\n",
    "import matplotlib.pyplot as plt\n",
    "%matplotlib inline"
   ]
  },
  {
   "cell_type": "code",
   "execution_count": 21,
   "metadata": {},
   "outputs": [
    {
     "name": "stdout",
     "output_type": "stream",
     "text": [
      "\n",
      "\u001b[41mS\u001b[0mFFF\n",
      "FHFH\n",
      "FFFH\n",
      "HFFG\n"
     ]
    }
   ],
   "source": [
    "env = gym.make('FrozenLake-v0')\n",
    "env.reset()\n",
    "env.render()"
   ]
  },
  {
   "cell_type": "code",
   "execution_count": 22,
   "metadata": {},
   "outputs": [],
   "source": [
    "# Action mapping\n",
    "action_mapping = {\n",
    "    0: '\\u2191',  # ↑ \n",
    "    1: '\\u2192',  # →\n",
    "    2: '\\u2193',  # ↓\n",
    "    3: '\\u2190',  # ←\n",
    "}"
   ]
  },
  {
   "cell_type": "code",
   "execution_count": 4,
   "metadata": {},
   "outputs": [],
   "source": [
    "# Utilities\n",
    "def one_step_lookahead(env, state, V, discount):\n",
    "    n_actions = env.nA\n",
    "    action_values = np.zeros(shape=n_actions)\n",
    "    for action in range(n_actions):\n",
    "        for prob, next_state, reward, done in env.P[state][action]:\n",
    "            action_values[action] += prob * (reward + discount * V[next_state])\n",
    "    return action_values"
   ]
  },
  {
   "cell_type": "markdown",
   "metadata": {},
   "source": [
    "# Exercise 1"
   ]
  },
  {
   "cell_type": "markdown",
   "metadata": {},
   "source": [
    "## 1. Value Iteration\n",
    "\n",
    "### Algorithnm:\n",
    "\n",
    "    choose initial estimate of optimal value function\n",
    "\n",
    "    repeat until change in values is sufficently small {\n",
    "\n",
    "        for each state {\n",
    "    \n",
    "            calculate the maximum expected value of neighboring state for each possible action\n",
    "        \n",
    "            use maximal value of the list to update estimate of optimal value function\n",
    "      \n",
    "        } each state\n",
    "\n",
    "    } convergence\n",
    "\n",
    "    calculate optimal value frunction from Bellmans' Equation\n"
   ]
  },
  {
   "cell_type": "code",
   "execution_count": 10,
   "metadata": {},
   "outputs": [],
   "source": [
    "def value_iteration(env, discount=1.0, theta=1e-9, max_iter=1e9):\n",
    "    V = np.zeros(env.nS)\n",
    "    for i in range(int(max_iter)):\n",
    "        delta = 0\n",
    "        for state in range(env.nS):\n",
    "            action_value = one_step_lookahead(env, state, V, discount)\n",
    "            best_action_value = np.max(action_value)\n",
    "            delta = max(delta, np.abs(V[state] - best_action_value))\n",
    "            V[state] = best_action_value\n",
    "        if delta < theta:\n",
    "            print(f'Value Iteration converged at iteration #{i}.')\n",
    "            break\n",
    "    policy = np.zeros([env.nS, env.nA])\n",
    "    for state in range(env.nS):\n",
    "        action_value = one_step_lookahead(env, state, V, discount)\n",
    "        best_action = np.argmax(action_value)\n",
    "        policy[state, best_action] = 1.0\n",
    "    return policy, V"
   ]
  },
  {
   "cell_type": "markdown",
   "metadata": {},
   "source": [
    "## 2. Policy Iteration\n",
    "\n",
    "### Alogorithm:\n",
    "\n",
    "    choose initial policy & value function\n",
    "\n",
    "    repeat until policy is stable {\n",
    "      1. Policy evaluation:\n",
    "\n",
    "      repeat until change in values is sufficiently small {\n",
    "\n",
    "        for each state {\n",
    "\n",
    "          calculate the value of neighboring states\n",
    "\n",
    "          when taking actions according to current policy.\n",
    "\n",
    "          update estimate of optimal value function.\n",
    "\n",
    "        } each state\n",
    "\n",
    "      } converge\n",
    "\n",
    "      2. Policy improvement:\n",
    "\n",
    "      New policy according to Bellmans Equation,\n",
    "\n",
    "      assuming V^* ≈ current V^π\n",
    "\n",
    "    } policy\n"
   ]
  },
  {
   "cell_type": "code",
   "execution_count": 11,
   "metadata": {},
   "outputs": [],
   "source": [
    "def policy_eval(policy, env, discount=1.0, theta=1e-9, max_iter=1e9):\n",
    "    eval_iter = 1\n",
    "    V = np.zeros(env.nS)\n",
    "    for i in range(int(max_iter)):\n",
    "        delta = 0\n",
    "        for state in range(env.nS):\n",
    "            v = 0\n",
    "            for action, action_prob in enumerate(policy[state]):\n",
    "                for state_prob, next_state, reward, done in env.P[state][action]:\n",
    "                    v += action_prob * state_prob * (reward + discount * V[next_state])\n",
    "            delta = max(delta, np.abs(V[state] - v))\n",
    "            V[state] = v\n",
    "        eval_iter += 1\n",
    "        if delta < theta:\n",
    "            print(f'Policy evaluated in {eval_iter} iterations.')\n",
    "            return V\n",
    "\n",
    "def policy_iteration(env, discount=1.0, max_iter=1e9):\n",
    "    policy = np.ones([env.nS, env.nA]) / env.nA\n",
    "    eval_policies = 1\n",
    "    for i in range(int(max_iter)):\n",
    "        stable_policy = True\n",
    "        V = policy_eval(policy, env, discount=discount)\n",
    "        for state in range(env.nS):\n",
    "            current_action = np.argmax(policy[state])\n",
    "            action_value = one_step_lookahead(env, state, V, discount)\n",
    "            best_action = np.argmax(action_value)\n",
    "            if current_action != best_action:\n",
    "                stable_policy = True\n",
    "            policy[state] = np.eye(env.nA)[best_action]\n",
    "        eval_policies += 1\n",
    "        if stable_policy:\n",
    "            print(f'Evaluated {eval_policies} policies.')\n",
    "            return policy, V"
   ]
  },
  {
   "cell_type": "markdown",
   "metadata": {},
   "source": [
    "# Exercise 2"
   ]
  },
  {
   "cell_type": "code",
   "execution_count": 27,
   "metadata": {},
   "outputs": [
    {
     "name": "stdout",
     "output_type": "stream",
     "text": [
      "Value Iteration converged at iteration #523.\n",
      "Final policy derived by Value Iteration:\n",
      "↑ ← ← ← ↑ ↑ ↑ ↑ ← → ↑ ↑ ↑ ↓ → ↑\n",
      "Number of wins over 20000 episodes: 14736\n",
      "Average reward over 20000 episodes: 0.7368\n",
      "\n",
      "Policy evaluated in 66 iterations.\n",
      "Evaluated 2 policies.\n",
      "Final policy derived by Policy Iteration:\n",
      "↑ ← ↑ ← ↑ ↑ ↑ ↑ ← → ↑ ↑ ↑ ↓ → ↑\n",
      "Number of wins over 20000 episodes: 14632\n",
      "Average reward over 20000 episodes: 0.7316\n",
      "\n"
     ]
    }
   ],
   "source": [
    "def play_episodes(env, n_episodes, policy):\n",
    "    wins = 0\n",
    "    total_reward = 0\n",
    "    for episode in range(n_episodes):\n",
    "        done = False\n",
    "        state = env.reset()\n",
    "        while not done:\n",
    "            action = np.argmax(policy[state])\n",
    "            next_state, reward, done, info = env.step(action)\n",
    "            total_reward += reward\n",
    "            state = next_state\n",
    "            if done and reward == 1.0:\n",
    "                wins += 1\n",
    "    average_reward = total_reward / n_episodes\n",
    "    return wins, total_reward, average_reward\n",
    "\n",
    "n_episodes = 20000\n",
    "\n",
    "solvers = [('Value Iteration', value_iteration), ('Policy Iteration', policy_iteration)]\n",
    "\n",
    "for iter_name, iter_func in solvers:\n",
    "    env = gym.make('FrozenLake-v0')\n",
    "    policy, V = iter_func(env.env)\n",
    "    print(f'Final policy derived by {iter_name}:')\n",
    "    print(' '.join([action_mapping[action] for action in np.argmax(policy, axis=1)]))\n",
    "    wins, total_reward, average_reward = play_episodes(env, n_episodes, policy)\n",
    "    print(f'Number of wins over {n_episodes} episodes: {wins}')\n",
    "    print(f'Average reward over {n_episodes} episodes: {average_reward}\\n')"
   ]
  },
  {
   "cell_type": "code",
   "execution_count": null,
   "metadata": {},
   "outputs": [],
   "source": []
  }
 ],
 "metadata": {
  "kernelspec": {
   "display_name": "Python 3.7",
   "language": "python",
   "name": "python3"
  },
  "language_info": {
   "codemirror_mode": {
    "name": "ipython",
    "version": 3
   },
   "file_extension": ".py",
   "mimetype": "text/x-python",
   "name": "python",
   "nbconvert_exporter": "python",
   "pygments_lexer": "ipython3",
   "version": "3.7.1"
  }
 },
 "nbformat": 4,
 "nbformat_minor": 2
}
