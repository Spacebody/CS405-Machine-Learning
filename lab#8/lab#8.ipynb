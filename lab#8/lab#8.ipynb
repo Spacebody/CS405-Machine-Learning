{
 "cells": [
  {
   "cell_type": "code",
   "execution_count": 185,
   "metadata": {},
   "outputs": [],
   "source": [
    "# Author: Yilin ZHENG\n",
    "import numpy as np\n",
    "import random"
   ]
  },
  {
   "cell_type": "markdown",
   "metadata": {},
   "source": [
    "1. Viterbi Algorithm"
   ]
  },
  {
   "cell_type": "code",
   "execution_count": 214,
   "metadata": {},
   "outputs": [],
   "source": [
    "# Reference: https://en.wikipedia.org/wiki/Viterbi_algorithm\n",
    "def viterbi(observations, states, init_state, trans_mat, emission_mat, print_parameters=False, iterations=0):\n",
    "    V = [{}]\n",
    "    # Initialization\n",
    "    for s in states:\n",
    "        V[0][s] = {\"prob\": init_state[s] * emission_mat[s][observations[0]], \"prev\": None}\n",
    "    # For later steps\n",
    "    for t in range(1, len(observations)):\n",
    "        V.append({})\n",
    "        for s in states:\n",
    "            max_trans_prob = V[t-1][states[0]][\"prob\"]*trans_mat[states[0]][s]\n",
    "            prev_selected_state = states[0]\n",
    "            for prev_state in states[1:]:\n",
    "                trans_prob = V[t-1][prev_state][\"prob\"]*trans_mat[prev_state][s]\n",
    "                if trans_prob > max_trans_prob:\n",
    "                    max_trans_prob = trans_prob\n",
    "                    prev_selected_state = prev_state \n",
    "            max_prob = max_trans_prob * emission_mat[s][observations[t]]\n",
    "            V[t][s] = {\"prob\": max_prob, \"prev\": prev_selected_state}\n",
    "        if print_parameters and iterations != 0 and t == iterations:\n",
    "            for line in get_parameters(V):\n",
    "                print(line)\n",
    "    opt = []\n",
    "    max_prob = max(value[\"prob\"] for value in V[-1].values())\n",
    "    previous = None\n",
    "    for s, data in V[-1].items():\n",
    "        if data[\"prob\"] == max_prob:\n",
    "            opt.append(s)\n",
    "            previous = s\n",
    "            break\n",
    "    for t in range(len(V) - 2, -1, -1):\n",
    "        opt.insert(0, V[t + 1][previous][\"prev\"])\n",
    "        previous = V[t + 1][previous][\"prev\"]\n",
    "    return opt, max_prob\n",
    "\n",
    "def get_parameters(V):\n",
    "    yield \" \".join((\"%9d\" % i) for i in range(len(V)))\n",
    "    for state in V[0]:\n",
    "        yield \"%.7s: \" % state + \" \".join(\"%.7s\" % (\"%f\" % v[state][\"prob\"]) for v in V)"
   ]
  },
  {
   "cell_type": "code",
   "execution_count": 215,
   "metadata": {},
   "outputs": [
    {
     "name": "stdout",
     "output_type": "stream",
     "text": [
      "['Heads', 'Heads', 'Heads', 'Tails', 'Heads', 'Tails', 'Heads', 'Tails', 'Tails', 'Tails', 'Tails', 'Heads', 'Tails', 'Tails', 'Tails']\n"
     ]
    }
   ],
   "source": [
    "# sequences\n",
    "seq0 = ('Heads', 'Heads', 'Heads')\n",
    "seq1 = ('Heads', 'Heads', 'Tails')\n",
    "seq2 = ('Heads', 'Tails', 'Heads')\n",
    "seq3 = ('Heads', 'Tails', 'Tails')\n",
    "seq4 = ('Tails', 'Heads', 'Heads')\n",
    "seq5 = ('Tails', 'Heads', 'Tails')\n",
    "seq6 = ('Tails', 'Tails', 'Heads')\n",
    "seq7 = ('Tails', 'Tails', 'Tails')\n",
    "\n",
    "all_seqs = [seq0, seq1, seq2, seq3, seq4, seq5, seq6, seq7]\n",
    "observation_seq = random.sample(all_seqs, 5)  # randomly selected 5 sequences\n",
    "\n",
    "observations = []\n",
    "for seq in observation_seq:\n",
    "    observations += [s for s in seq]\n",
    "print(observations)\n",
    "states = (\"Coin1\", \"Coin2\", \"Coin3\")\n",
    "init_state_1 = {\"Coin1\": 0.3, \"Coin2\": 0.4, \"Coin3\": 0.3}\n",
    "init_state_2 = {\"Coin1\": 0.34, \"Coin2\": 0.33, \"Coin3\": 0.33}\n",
    "init_state_3 = {\"Coin1\": 0.2, \"Coin2\": 0.4, \"Coin3\": 0.4}\n",
    "init_state_4 = {\"Coin1\": 0.4, \"Coin2\": 0.5, \"Coin3\": 0.1}\n",
    "init_states = [init_state_1, init_state_2, init_state_3, init_state_4]\n",
    "trans_mat = {\"Coin1\": {\"Coin1\": 0.6, \"Coin2\": 0.2, \"Coin3\": 0.2},\n",
    "             \"Coin2\": {\"Coin1\": 0.3, \"Coin2\": 0.5, \"Coin3\": 0.2},\n",
    "             \"Coin3\": {\"Coin1\": 0.5, \"Coin2\": 0.2, \"Coin3\": 0.3}}\n",
    "emission_mat = {\"Coin1\": {\"Heads\": 0.7, \"Tails\": 0.3},\n",
    "                \"Coin2\": {\"Heads\": 0.4, \"Tails\": 0.6},\n",
    "                \"Coin3\": {\"Heads\": 0.5, \"Tails\": 0.5}}"
   ]
  },
  {
   "cell_type": "code",
   "execution_count": 216,
   "metadata": {},
   "outputs": [
    {
     "name": "stdout",
     "output_type": "stream",
     "text": [
      "The sequences are Coin1 -> Coin1 -> Coin1 -> Coin1 -> Coin1 -> Coin1 -> Coin1 -> Coin2 -> Coin2 -> Coin2 -> Coin2 -> Coin2 -> Coin2 -> Coin2 -> Coin2\n",
      "The highest probability is 3.704249548016638e-09\n",
      "The sequences are Coin1 -> Coin1 -> Coin1 -> Coin1 -> Coin1 -> Coin1 -> Coin1 -> Coin2 -> Coin2 -> Coin2 -> Coin2 -> Coin2 -> Coin2 -> Coin2 -> Coin2\n",
      "The highest probability is 4.198149487752189e-09\n",
      "The sequences are Coin3 -> Coin1 -> Coin1 -> Coin1 -> Coin1 -> Coin1 -> Coin1 -> Coin2 -> Coin2 -> Coin2 -> Coin2 -> Coin2 -> Coin2 -> Coin2 -> Coin2\n",
      "The highest probability is 2.939880593663998e-09\n",
      "The sequences are Coin1 -> Coin1 -> Coin1 -> Coin1 -> Coin1 -> Coin1 -> Coin1 -> Coin2 -> Coin2 -> Coin2 -> Coin2 -> Coin2 -> Coin2 -> Coin2 -> Coin2\n",
      "The highest probability is 4.938999397355515e-09\n"
     ]
    }
   ],
   "source": [
    "for init_state in init_states: \n",
    "    result_seq, prob = viterbi(observations, states, init_state, trans_mat, emission_mat)\n",
    "    print(\"The sequences are \" + \" -> \".join(result_seq))\n",
    "    print(\"The highest probability is %s\" % prob)"
   ]
  },
  {
   "cell_type": "markdown",
   "metadata": {},
   "source": [
    "2. Calculate Parameters"
   ]
  },
  {
   "cell_type": "code",
   "execution_count": 217,
   "metadata": {},
   "outputs": [],
   "source": [
    "# Data\n",
    "init_state = {\"Coin1\": 0.34, \"Coin2\": 0.33, \"Coin3\": 0.33}\n",
    "trans_mat = {\"Coin1\": {\"Coin1\": 0.1, \"Coin2\": 0.3, \"Coin3\": 0.6},\n",
    "             \"Coin2\": {\"Coin1\": 0.5, \"Coin2\": 0.3, \"Coin3\": 0.2},\n",
    "             \"Coin3\": {\"Coin1\": 0.4, \"Coin2\": 0.3, \"Coin3\": 0.3}}\n",
    "emission_mat = {\"Coin1\": {\"Heads\": 0.2, \"Tails\": 0.8},\n",
    "                \"Coin2\": {\"Heads\": 0.4, \"Tails\": 0.6},\n",
    "                \"Coin3\": {\"Heads\": 0.5, \"Tails\": 0.5}}\n"
   ]
  },
  {
   "cell_type": "code",
   "execution_count": 219,
   "metadata": {},
   "outputs": [
    {
     "name": "stdout",
     "output_type": "stream",
     "text": [
      "        0         1         2\n",
      "Coin1: 0.06800 0.01320 0.00198\n",
      "Coin2: 0.13200 0.01980 0.00297\n",
      "Coin3: 0.16500 0.02475 0.00396\n"
     ]
    }
   ],
   "source": [
    "result_seq, prob = viterbi(observations, states, init_state, trans_mat, emission_mat, print_parameters=True, iterations=2)\n",
    "# print(\"The sequences are \" + \" -> \".join(result_seq))\n",
    "# print(\"The highest probability is %s\" % prob)"
   ]
  },
  {
   "cell_type": "code",
   "execution_count": null,
   "metadata": {},
   "outputs": [],
   "source": []
  },
  {
   "cell_type": "code",
   "execution_count": null,
   "metadata": {},
   "outputs": [],
   "source": []
  }
 ],
 "metadata": {
  "kernelspec": {
   "display_name": "Python 3.7",
   "language": "python",
   "name": "python3"
  },
  "language_info": {
   "codemirror_mode": {
    "name": "ipython",
    "version": 3
   },
   "file_extension": ".py",
   "mimetype": "text/x-python",
   "name": "python",
   "nbconvert_exporter": "python",
   "pygments_lexer": "ipython3",
   "version": "3.7.1"
  }
 },
 "nbformat": 4,
 "nbformat_minor": 2
}
