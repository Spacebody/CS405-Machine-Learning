{
 "cells": [
  {
   "cell_type": "code",
   "execution_count": 1,
   "metadata": {},
   "outputs": [],
   "source": [
    "# Author: Yilin ZHENG\n",
    "import numpy as np\n",
    "import random"
   ]
  },
  {
   "cell_type": "markdown",
   "metadata": {},
   "source": [
    "1. Viterbi Algorithm"
   ]
  },
  {
   "cell_type": "code",
   "execution_count": 2,
   "metadata": {},
   "outputs": [],
   "source": [
    "# Reference: https://en.wikipedia.org/wiki/Viterbi_algorithm\n",
    "def viterbi(observations, states, init_state, trans_mat, emission_mat):\n",
    "    V = [{}]\n",
    "    # Initialization\n",
    "    for s in states:\n",
    "        V[0][s] = {\"prob\": init_state[s] * emission_mat[s][observations[0]], \"prev\": None}\n",
    "    # For later steps\n",
    "    for t in range(1, len(observations)):\n",
    "        V.append({})\n",
    "        for s in states:\n",
    "            max_trans_prob = V[t-1][states[0]][\"prob\"]*trans_mat[states[0]][s]\n",
    "            prev_selected_state = states[0]\n",
    "            for prev_state in states[1:]:\n",
    "                trans_prob = V[t-1][prev_state][\"prob\"]*trans_mat[prev_state][s]\n",
    "                if trans_prob > max_trans_prob:\n",
    "                    max_trans_prob = trans_prob\n",
    "                    prev_selected_state = prev_state \n",
    "            max_prob = max_trans_prob * emission_mat[s][observations[t]]\n",
    "            V[t][s] = {\"prob\": max_prob, \"prev\": prev_selected_state}\n",
    "    opt = []\n",
    "    max_prob = max(value[\"prob\"] for value in V[-1].values())\n",
    "    previous = None\n",
    "    for s, data in V[-1].items():\n",
    "        if data[\"prob\"] == max_prob:\n",
    "            opt.append(s)\n",
    "            previous = s\n",
    "            break\n",
    "    for t in range(len(V) - 2, -1, -1):\n",
    "        opt.insert(0, V[t + 1][previous][\"prev\"])\n",
    "        previous = V[t + 1][previous][\"prev\"]\n",
    "    return opt, max_prob"
   ]
  },
  {
   "cell_type": "code",
   "execution_count": 3,
   "metadata": {},
   "outputs": [
    {
     "name": "stdout",
     "output_type": "stream",
     "text": [
      "['Tails', 'Heads', 'Tails', 'Tails', 'Heads', 'Heads', 'Heads', 'Tails', 'Heads', 'Heads', 'Tails', 'Tails', 'Heads', 'Heads', 'Tails']\n"
     ]
    }
   ],
   "source": [
    "# sequences\n",
    "seq0 = ('Heads', 'Heads', 'Heads')\n",
    "seq1 = ('Heads', 'Heads', 'Tails')\n",
    "seq2 = ('Heads', 'Tails', 'Heads')\n",
    "seq3 = ('Heads', 'Tails', 'Tails')\n",
    "seq4 = ('Tails', 'Heads', 'Heads')\n",
    "seq5 = ('Tails', 'Heads', 'Tails')\n",
    "seq6 = ('Tails', 'Tails', 'Heads')\n",
    "seq7 = ('Tails', 'Tails', 'Tails')\n",
    "\n",
    "all_seqs = [seq0, seq1, seq2, seq3, seq4, seq5, seq6, seq7]\n",
    "observation_seq = random.sample(all_seqs, 5)  # randomly selected 5 sequences\n",
    "\n",
    "observations = []\n",
    "for seq in observation_seq:\n",
    "    observations += [s for s in seq]\n",
    "print(observations)\n",
    "states = (\"Coin1\", \"Coin2\", \"Coin3\")\n",
    "init_state_1 = {\"Coin1\": 0.3, \"Coin2\": 0.4, \"Coin3\": 0.3}\n",
    "init_state_2 = {\"Coin1\": 0.34, \"Coin2\": 0.33, \"Coin3\": 0.33}\n",
    "init_state_3 = {\"Coin1\": 0.2, \"Coin2\": 0.4, \"Coin3\": 0.4}\n",
    "init_state_4 = {\"Coin1\": 0.4, \"Coin2\": 0.5, \"Coin3\": 0.1}\n",
    "init_states = [init_state_1, init_state_2, init_state_3, init_state_4]\n",
    "trans_mat = {\"Coin1\": {\"Coin1\": 0.6, \"Coin2\": 0.2, \"Coin3\": 0.2},\n",
    "             \"Coin2\": {\"Coin1\": 0.3, \"Coin2\": 0.5, \"Coin3\": 0.2},\n",
    "             \"Coin3\": {\"Coin1\": 0.5, \"Coin2\": 0.2, \"Coin3\": 0.3}}\n",
    "emission_mat = {\"Coin1\": {\"Heads\": 0.7, \"Tails\": 0.3},\n",
    "                \"Coin2\": {\"Heads\": 0.4, \"Tails\": 0.6},\n",
    "                \"Coin3\": {\"Heads\": 0.5, \"Tails\": 0.5}}"
   ]
  },
  {
   "cell_type": "code",
   "execution_count": 4,
   "metadata": {},
   "outputs": [
    {
     "name": "stdout",
     "output_type": "stream",
     "text": [
      "The sequences are Coin2 -> Coin2 -> Coin2 -> Coin2 -> Coin1 -> Coin1 -> Coin1 -> Coin1 -> Coin1 -> Coin1 -> Coin1 -> Coin1 -> Coin1 -> Coin1 -> Coin1\n",
      "The highest probability is 5.2274369621610784e-09\n",
      "The sequences are Coin3 -> Coin1 -> Coin1 -> Coin1 -> Coin1 -> Coin1 -> Coin1 -> Coin1 -> Coin1 -> Coin1 -> Coin1 -> Coin1 -> Coin1 -> Coin1 -> Coin1\n",
      "The highest probability is 4.5282672684720325e-09\n",
      "The sequences are Coin3 -> Coin1 -> Coin1 -> Coin1 -> Coin1 -> Coin1 -> Coin1 -> Coin1 -> Coin1 -> Coin1 -> Coin1 -> Coin1 -> Coin1 -> Coin1 -> Coin1\n",
      "The highest probability is 5.488808810269131e-09\n",
      "The sequences are Coin2 -> Coin2 -> Coin2 -> Coin2 -> Coin1 -> Coin1 -> Coin1 -> Coin1 -> Coin1 -> Coin1 -> Coin1 -> Coin1 -> Coin1 -> Coin1 -> Coin1\n",
      "The highest probability is 6.534296202701345e-09\n"
     ]
    }
   ],
   "source": [
    "for init_state in init_states: \n",
    "    result_seq, prob = viterbi(observations, states, init_state, trans_mat, emission_mat)\n",
    "    print(\"The sequences are \" + \" -> \".join(result_seq))\n",
    "    print(\"The highest probability is %s\" % prob)"
   ]
  },
  {
   "cell_type": "markdown",
   "metadata": {},
   "source": [
    "2. Calculate Parameters"
   ]
  },
  {
   "cell_type": "code",
   "execution_count": 66,
   "metadata": {},
   "outputs": [
    {
     "name": "stdout",
     "output_type": "stream",
     "text": [
      "[1, 0, 1, 1, 0, 0, 0, 1, 0, 0, 1, 1, 0, 0, 1]\n"
     ]
    }
   ],
   "source": [
    "# Data \"Heads\": 0, \"Tails\": 1\n",
    "observations_2 = [0 if o == \"Heads\" else 1 for o in observations]\n",
    "print(observations_2)\n",
    "init_state = np.array([0.34, 0.33, 0.33])\n",
    "trans_mat = np.array([[0.1, 0.3, 0.6],\n",
    "                       [0.5, 0.3, 0.2],\n",
    "                       [0.4, 0.3, 0.3]])\n",
    "emission_mat = np.array([[0.2, 0.8],\n",
    "                          [0.4, 0.6],\n",
    "                          [0.5, 0.5]])"
   ]
  },
  {
   "cell_type": "code",
   "execution_count": 67,
   "metadata": {},
   "outputs": [],
   "source": [
    "def baum_welch(observations, states, trans, emission, iterations=0):\n",
    "    if iterations:\n",
    "        N = trans.shape[0]\n",
    "        T = len(observations)\n",
    "        for i in range(iterations):\n",
    "            #Forward\n",
    "            F = np.zeros((N, T))\n",
    "            F[:, 0] = states * emission[:, observations[0]]\n",
    "            for t in range(1, T):\n",
    "                for n in range(N):\n",
    "                    F[n, t] = np.dot(F[:, t-1], (trans[:, n])) * emission[n, observations[t]]\n",
    "            #Backward\n",
    "            X = np.zeros((N, T))\n",
    "            X[:, -1:] = 1\n",
    "            for t in reversed(range(T-1)):\n",
    "                for n in range(N):\n",
    "                    X[n, t] = np.sum(X[:, t+1] * trans[n, :] * emission[:, observations[t+1]])\n",
    "            #Estimation\n",
    "            obs_prob = np.sum(F[:, -1])\n",
    "            x_i = np.zeros((T-1, N, N))\n",
    "            for t in range(x_i.shape[0]):\n",
    "                x_i[t, :, :] = trans * F[:, [t]] * emission[:, observations[t+1]] * X[:, t+1] / obs_prob\n",
    "            gamma = F * X / obs_prob\n",
    "            gamma_sum_trans = np.sum(gamma[:, :-1], axis=1, keepdims=True)\n",
    "            rows_to_keep_trans = (gamma_sum_trans == 0)\n",
    "            gamma_sum_trans[gamma_sum_trans == 0] = 1.\n",
    "            next_trans = np.sum(x_i, axis=0) / gamma_sum_trans\n",
    "\n",
    "            gamma_sum_emission = np.sum(gamma, axis=1, keepdims=True)\n",
    "            rows_to_keep_emission = (gamma_sum_emission == 0)\n",
    "            gamma_sum_emission[gamma_sum_emission == 0] = 1.\n",
    "\n",
    "            obs_mat = np.zeros((T, emission.shape[1]))\n",
    "            obs_mat[range(T), observations] = 1\n",
    "            next_emission = np.dot(gamma, obs_mat) / gamma_sum_emission\n",
    "\n",
    "            trans = trans * rows_to_keep_trans + next_trans\n",
    "            emission = emission * rows_to_keep_emission + next_emission\n",
    "            states = gamma[:, 0] / np.sum(gamma[:, 0])\n",
    "    return states, trans, emission"
   ]
  },
  {
   "cell_type": "code",
   "execution_count": 68,
   "metadata": {},
   "outputs": [
    {
     "name": "stdout",
     "output_type": "stream",
     "text": [
      "states: [0.68496556 0.17894851 0.13608593]\n",
      "trans: [[0.08537028 0.27434949 0.64028023]\n",
      " [0.44882755 0.31700537 0.23416708]\n",
      " [0.33551023 0.31721426 0.34727551]]\n",
      "emission: [[0.31107914 0.68892086]\n",
      " [0.57220631 0.42779369]\n",
      " [0.6868026  0.3131974 ]]\n"
     ]
    }
   ],
   "source": [
    "states, trans, emission = baum_welch(observations_2, init_state, trans_mat, emission_mat, iterations=2)\n",
    "print(\"states: \" + str(states))\n",
    "print(\"trans: \" + str(trans))\n",
    "print(\"emission: \" + str(emission))"
   ]
  }
 ],
 "metadata": {
  "kernelspec": {
   "display_name": "Python 3.7",
   "language": "python",
   "name": "python3"
  },
  "language_info": {
   "codemirror_mode": {
    "name": "ipython",
    "version": 3
   },
   "file_extension": ".py",
   "mimetype": "text/x-python",
   "name": "python",
   "nbconvert_exporter": "python",
   "pygments_lexer": "ipython3",
   "version": "3.7.1"
  }
 },
 "nbformat": 4,
 "nbformat_minor": 2
}
